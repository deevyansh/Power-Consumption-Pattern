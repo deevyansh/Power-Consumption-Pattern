{
 "cells": [
  {
   "cell_type": "code",
   "execution_count": 33,
   "metadata": {},
   "outputs": [],
   "source": [
    "import numpy as np\n",
    "import pandas as pd\n",
    "import matplotlib.pyplot as plt\n",
    "from datetime import datetime\n",
    "\n",
    "def change (p):\n",
    "    s=\"\"\n",
    "    for i in range (0,len(p)):\n",
    "        if(p[i]==','):\n",
    "            s+='.'\n",
    "        else:\n",
    "            s+=p[i]\n",
    "    return s"
   ]
  },
  {
   "cell_type": "code",
   "execution_count": 34,
   "metadata": {},
   "outputs": [],
   "source": [
    "\n",
    "df=pd.read_csv('/workspaces/Power-Consumption-Pattern/Price.csv', delimiter=';')\n",
    "df.rename(columns={'BalancingPowerPriceDownEUR': 'Price'},inplace=True)\n",
    "df['day']=0\n",
    "df['year']=0\n",
    "df['month']=0\n",
    "\n",
    "df['Price']=df['Price'].astype(str)\n",
    "for i in range (0,len(df)):\n",
    "    df.loc[i,'Price']=change(df.iloc[i].loc['Price'])\n",
    "df['Price']=df['Price'].astype(float)\n",
    "\n",
    "for i in range (0,len(df)):\n",
    "    p=datetime.strptime(df.loc[i,'HourUTC'],'%d-%m-%Y')\n",
    "    df.loc[i,'day']=p.day\n",
    "    df.loc[i,'year']=p.year\n",
    "    df.loc[i,'month']=p.month"
   ]
  },
  {
   "cell_type": "code",
   "execution_count": 35,
   "metadata": {},
   "outputs": [],
   "source": [
    "\n",
    "####### Checking the counts #######\n",
    "\n",
    "# print('Day Value Counts')\n",
    "# print(df['day'].value_counts())\n",
    "# print('Month Value Counts')\n",
    "# print(df['month'].value_counts())"
   ]
  },
  {
   "cell_type": "code",
   "execution_count": 37,
   "metadata": {},
   "outputs": [
    {
     "name": "stdout",
     "output_type": "stream",
     "text": [
      "          Datetime (Local)  Price (EUR/MWhe)\n",
      "0      2015-01-01 01:00:00             18.29\n",
      "1      2015-01-01 02:00:00             16.04\n",
      "2      2015-01-01 03:00:00             14.60\n",
      "3      2015-01-01 04:00:00             14.95\n",
      "4      2015-01-01 05:00:00             14.50\n",
      "...                    ...               ...\n",
      "81787  2024-04-30 21:00:00             66.05\n",
      "81788  2024-04-30 22:00:00             54.09\n",
      "81789  2024-04-30 23:00:00             50.98\n",
      "81790  2024-05-01 00:00:00             44.71\n",
      "81791  2024-05-01 01:00:00             44.18\n",
      "\n",
      "[81792 rows x 2 columns]\n"
     ]
    }
   ],
   "source": [
    "######### DSM <NO> BiLL ######\n",
    "df1=pd.read_csv('/workspaces/Power-Consumption-Pattern/NO/All CSV/NO_2023.csv')\n",
    "df2=pd.read_csv('/workspaces/Power-Consumption-Pattern/Denmark.csv')\n",
    "df2=df2.drop(columns=['Country','ISO3 Code','Datetime (UTC)'])\n",
    "print(df2)\n"
   ]
  },
  {
   "cell_type": "code",
   "execution_count": 38,
   "metadata": {},
   "outputs": [
    {
     "name": "stdout",
     "output_type": "stream",
     "text": [
      "          Datetime (Local)  Price (EUR/MWhe)  day  month  year  hour\n",
      "0      2015-01-01 01:00:00             18.29    1      1  2015     1\n",
      "1      2015-01-01 02:00:00             16.04    1      1  2015     2\n",
      "2      2015-01-01 03:00:00             14.60    1      1  2015     3\n",
      "3      2015-01-01 04:00:00             14.95    1      1  2015     4\n",
      "4      2015-01-01 05:00:00             14.50    1      1  2015     5\n",
      "...                    ...               ...  ...    ...   ...   ...\n",
      "81787  2024-04-30 21:00:00             66.05   30      4  2024    21\n",
      "81788  2024-04-30 22:00:00             54.09   30      4  2024    22\n",
      "81789  2024-04-30 23:00:00             50.98   30      4  2024    23\n",
      "81790  2024-05-01 00:00:00             44.71    1      5  2024     0\n",
      "81791  2024-05-01 01:00:00             44.18    1      5  2024     1\n",
      "\n",
      "[81792 rows x 6 columns]\n",
      "          Datetime (Local)  Price (EUR/MWhe)  day  month  year  hour\n",
      "70127  2023-01-01 00:00:00              2.01    1      1  2023     0\n",
      "70128  2023-01-01 01:00:00              1.38    1      1  2023     1\n",
      "70129  2023-01-01 02:00:00              0.09    1      1  2023     2\n",
      "70130  2023-01-01 03:00:00              0.08    1      1  2023     3\n",
      "70131  2023-01-01 04:00:00              0.05    1      1  2023     4\n",
      "...                    ...               ...  ...    ...   ...   ...\n",
      "78882  2023-12-31 19:00:00             39.64   31     12  2023    19\n",
      "78883  2023-12-31 20:00:00             34.89   31     12  2023    20\n",
      "78884  2023-12-31 21:00:00             29.60   31     12  2023    21\n",
      "78885  2023-12-31 22:00:00             28.67   31     12  2023    22\n",
      "78886  2023-12-31 23:00:00             26.87   31     12  2023    23\n",
      "\n",
      "[8760 rows x 6 columns]\n"
     ]
    }
   ],
   "source": [
    "from datetime import datetime\n",
    "df2['day']=0\n",
    "df2['month']=0\n",
    "df2['year']=0\n",
    "df2['hour']=0\n",
    "for i in range (0,len(df2)):\n",
    "    p=datetime.strptime(df2.iloc[i].loc['Datetime (Local)'],'%Y-%m-%d %H:%M:%S')\n",
    "    df2.loc[i,'day']=p.day\n",
    "    df2.loc[i,'year']=p.year\n",
    "    df2.loc[i,'month']=p.month\n",
    "    df2.loc[i,'hour']=p.hour\n",
    "print(df2)\n",
    "df2=df2[df2['year']==2023]\n",
    "print(df2)"
   ]
  },
  {
   "cell_type": "code",
   "execution_count": 39,
   "metadata": {},
   "outputs": [
    {
     "name": "stdout",
     "output_type": "stream",
     "text": [
      "          Datetime (Local)  Price (EUR/MWhe)  day  month  year  hour\n",
      "70127  2023-01-01 00:00:00              2.01    1      1  2023     0\n",
      "70128  2023-01-01 01:00:00              1.38    1      1  2023     1\n",
      "70129  2023-01-01 02:00:00              0.09    1      1  2023     2\n",
      "70130  2023-01-01 03:00:00              0.08    1      1  2023     3\n",
      "70131  2023-01-01 04:00:00              0.05    1      1  2023     4\n",
      "...                    ...               ...  ...    ...   ...   ...\n",
      "78882  2023-12-31 19:00:00             39.64   31     12  2023    19\n",
      "78883  2023-12-31 20:00:00             34.89   31     12  2023    20\n",
      "78884  2023-12-31 21:00:00             29.60   31     12  2023    21\n",
      "78885  2023-12-31 22:00:00             28.67   31     12  2023    22\n",
      "78886  2023-12-31 23:00:00             26.87   31     12  2023    23\n",
      "\n",
      "[8760 rows x 6 columns]\n"
     ]
    }
   ],
   "source": [
    "print(df2)"
   ]
  },
  {
   "cell_type": "code",
   "execution_count": 40,
   "metadata": {},
   "outputs": [
    {
     "data": {
      "text/html": [
       "<div>\n",
       "<style scoped>\n",
       "    .dataframe tbody tr th:only-of-type {\n",
       "        vertical-align: middle;\n",
       "    }\n",
       "\n",
       "    .dataframe tbody tr th {\n",
       "        vertical-align: top;\n",
       "    }\n",
       "\n",
       "    .dataframe thead th {\n",
       "        text-align: right;\n",
       "    }\n",
       "</style>\n",
       "<table border=\"1\" class=\"dataframe\">\n",
       "  <thead>\n",
       "    <tr style=\"text-align: right;\">\n",
       "      <th></th>\n",
       "      <th>index</th>\n",
       "      <th>Datetime (Local)</th>\n",
       "      <th>Price (EUR/MWhe)</th>\n",
       "      <th>day</th>\n",
       "      <th>month</th>\n",
       "      <th>year</th>\n",
       "      <th>hour</th>\n",
       "    </tr>\n",
       "  </thead>\n",
       "  <tbody>\n",
       "    <tr>\n",
       "      <th>0</th>\n",
       "      <td>70127</td>\n",
       "      <td>2023-01-01 00:00:00</td>\n",
       "      <td>2.01</td>\n",
       "      <td>1</td>\n",
       "      <td>1</td>\n",
       "      <td>2023</td>\n",
       "      <td>0</td>\n",
       "    </tr>\n",
       "    <tr>\n",
       "      <th>1</th>\n",
       "      <td>70128</td>\n",
       "      <td>2023-01-01 01:00:00</td>\n",
       "      <td>1.38</td>\n",
       "      <td>1</td>\n",
       "      <td>1</td>\n",
       "      <td>2023</td>\n",
       "      <td>1</td>\n",
       "    </tr>\n",
       "    <tr>\n",
       "      <th>2</th>\n",
       "      <td>70129</td>\n",
       "      <td>2023-01-01 02:00:00</td>\n",
       "      <td>0.09</td>\n",
       "      <td>1</td>\n",
       "      <td>1</td>\n",
       "      <td>2023</td>\n",
       "      <td>2</td>\n",
       "    </tr>\n",
       "    <tr>\n",
       "      <th>3</th>\n",
       "      <td>70130</td>\n",
       "      <td>2023-01-01 03:00:00</td>\n",
       "      <td>0.08</td>\n",
       "      <td>1</td>\n",
       "      <td>1</td>\n",
       "      <td>2023</td>\n",
       "      <td>3</td>\n",
       "    </tr>\n",
       "    <tr>\n",
       "      <th>4</th>\n",
       "      <td>70131</td>\n",
       "      <td>2023-01-01 04:00:00</td>\n",
       "      <td>0.05</td>\n",
       "      <td>1</td>\n",
       "      <td>1</td>\n",
       "      <td>2023</td>\n",
       "      <td>4</td>\n",
       "    </tr>\n",
       "    <tr>\n",
       "      <th>...</th>\n",
       "      <td>...</td>\n",
       "      <td>...</td>\n",
       "      <td>...</td>\n",
       "      <td>...</td>\n",
       "      <td>...</td>\n",
       "      <td>...</td>\n",
       "      <td>...</td>\n",
       "    </tr>\n",
       "    <tr>\n",
       "      <th>8755</th>\n",
       "      <td>78882</td>\n",
       "      <td>2023-12-31 19:00:00</td>\n",
       "      <td>39.64</td>\n",
       "      <td>31</td>\n",
       "      <td>12</td>\n",
       "      <td>2023</td>\n",
       "      <td>19</td>\n",
       "    </tr>\n",
       "    <tr>\n",
       "      <th>8756</th>\n",
       "      <td>78883</td>\n",
       "      <td>2023-12-31 20:00:00</td>\n",
       "      <td>34.89</td>\n",
       "      <td>31</td>\n",
       "      <td>12</td>\n",
       "      <td>2023</td>\n",
       "      <td>20</td>\n",
       "    </tr>\n",
       "    <tr>\n",
       "      <th>8757</th>\n",
       "      <td>78884</td>\n",
       "      <td>2023-12-31 21:00:00</td>\n",
       "      <td>29.60</td>\n",
       "      <td>31</td>\n",
       "      <td>12</td>\n",
       "      <td>2023</td>\n",
       "      <td>21</td>\n",
       "    </tr>\n",
       "    <tr>\n",
       "      <th>8758</th>\n",
       "      <td>78885</td>\n",
       "      <td>2023-12-31 22:00:00</td>\n",
       "      <td>28.67</td>\n",
       "      <td>31</td>\n",
       "      <td>12</td>\n",
       "      <td>2023</td>\n",
       "      <td>22</td>\n",
       "    </tr>\n",
       "    <tr>\n",
       "      <th>8759</th>\n",
       "      <td>78886</td>\n",
       "      <td>2023-12-31 23:00:00</td>\n",
       "      <td>26.87</td>\n",
       "      <td>31</td>\n",
       "      <td>12</td>\n",
       "      <td>2023</td>\n",
       "      <td>23</td>\n",
       "    </tr>\n",
       "  </tbody>\n",
       "</table>\n",
       "<p>8760 rows × 7 columns</p>\n",
       "</div>"
      ],
      "text/plain": [
       "      index     Datetime (Local)  Price (EUR/MWhe)  day  month  year  hour\n",
       "0     70127  2023-01-01 00:00:00              2.01    1      1  2023     0\n",
       "1     70128  2023-01-01 01:00:00              1.38    1      1  2023     1\n",
       "2     70129  2023-01-01 02:00:00              0.09    1      1  2023     2\n",
       "3     70130  2023-01-01 03:00:00              0.08    1      1  2023     3\n",
       "4     70131  2023-01-01 04:00:00              0.05    1      1  2023     4\n",
       "...     ...                  ...               ...  ...    ...   ...   ...\n",
       "8755  78882  2023-12-31 19:00:00             39.64   31     12  2023    19\n",
       "8756  78883  2023-12-31 20:00:00             34.89   31     12  2023    20\n",
       "8757  78884  2023-12-31 21:00:00             29.60   31     12  2023    21\n",
       "8758  78885  2023-12-31 22:00:00             28.67   31     12  2023    22\n",
       "8759  78886  2023-12-31 23:00:00             26.87   31     12  2023    23\n",
       "\n",
       "[8760 rows x 7 columns]"
      ]
     },
     "execution_count": 40,
     "metadata": {},
     "output_type": "execute_result"
    }
   ],
   "source": [
    "df2=df2.reset_index()\n",
    "df2"
   ]
  },
  {
   "cell_type": "code",
   "execution_count": 41,
   "metadata": {},
   "outputs": [],
   "source": [
    "#df2[df2['month']==12]['hour'].value_counts()"
   ]
  },
  {
   "cell_type": "code",
   "execution_count": 42,
   "metadata": {},
   "outputs": [
    {
     "name": "stdout",
     "output_type": "stream",
     "text": [
      "Series([], Name: count, dtype: int64)\n"
     ]
    },
    {
     "name": "stderr",
     "output_type": "stream",
     "text": [
      "/tmp/ipykernel_1839/3439378227.py:1: UserWarning: Boolean Series key will be reindexed to match DataFrame index.\n",
      "  print(df2[df2['month']==3][df2['hour']==2][df2['day']==26]['Price (EUR/MWhe)'].value_counts())\n",
      "/tmp/ipykernel_1839/3439378227.py:1: UserWarning: Boolean Series key will be reindexed to match DataFrame index.\n",
      "  print(df2[df2['month']==3][df2['hour']==2][df2['day']==26]['Price (EUR/MWhe)'].value_counts())\n"
     ]
    }
   ],
   "source": [
    "print(df2[df2['month']==3][df2['hour']==2][df2['day']==26]['Price (EUR/MWhe)'].value_counts())\n",
    "## 10 month 2 hour 29 day have 2 values\n",
    "## 3 month 2 hour 26 day is missing"
   ]
  },
  {
   "cell_type": "code",
   "execution_count": 43,
   "metadata": {},
   "outputs": [
    {
     "name": "stderr",
     "output_type": "stream",
     "text": [
      "/tmp/ipykernel_1839/1419012887.py:2: UserWarning: Boolean Series key will be reindexed to match DataFrame index.\n",
      "  indexlist=df2[df2['month']==10][df2['hour']==2][df2['day']==29].index.tolist()\n",
      "/tmp/ipykernel_1839/1419012887.py:2: UserWarning: Boolean Series key will be reindexed to match DataFrame index.\n",
      "  indexlist=df2[df2['month']==10][df2['hour']==2][df2['day']==29].index.tolist()\n"
     ]
    }
   ],
   "source": [
    "df2=df2.drop(columns='Datetime (Local)')\n",
    "indexlist=df2[df2['month']==10][df2['hour']==2][df2['day']==29].index.tolist()\n",
    "if(len(indexlist)==2):\n",
    "    df2=df2.drop(indexlist[0])\n",
    "    df2=df2.reset_index()\n",
    "df2.loc[len(df2),'day']=26\n",
    "df2.loc[len(df2)-1,'month']=3\n",
    "df2.loc[len(df2)-1,'year']=2023\n",
    "df2.loc[len(df2)-1,'hour']=2\n",
    "df2.loc[len(df2)-1,'Price (EUR/MWhe)']=1.1\n",
    "\n"
   ]
  },
  {
   "cell_type": "code",
   "execution_count": 44,
   "metadata": {},
   "outputs": [
    {
     "name": "stdout",
     "output_type": "stream",
     "text": [
      "Price (EUR/MWhe)\n",
      "36.1    1\n",
      "Name: count, dtype: int64\n"
     ]
    },
    {
     "name": "stderr",
     "output_type": "stream",
     "text": [
      "/tmp/ipykernel_1839/3426153115.py:3: UserWarning: Boolean Series key will be reindexed to match DataFrame index.\n",
      "  print(df2[df2['month']==3][df2['hour']==2][df2['day']==23]['Price (EUR/MWhe)'].value_counts())\n",
      "/tmp/ipykernel_1839/3426153115.py:3: UserWarning: Boolean Series key will be reindexed to match DataFrame index.\n",
      "  print(df2[df2['month']==3][df2['hour']==2][df2['day']==23]['Price (EUR/MWhe)'].value_counts())\n"
     ]
    }
   ],
   "source": [
    "df2=df2.sort_values(by=['month','day','hour'])\n",
    "df2=df2.reset_index(drop=True)\n",
    "print(df2[df2['month']==3][df2['hour']==2][df2['day']==23]['Price (EUR/MWhe)'].value_counts())"
   ]
  },
  {
   "cell_type": "code",
   "execution_count": 45,
   "metadata": {},
   "outputs": [
    {
     "name": "stdout",
     "output_type": "stream",
     "text": [
      "hour\n",
      "0.0     31\n",
      "1.0     31\n",
      "22.0    31\n",
      "21.0    31\n",
      "20.0    31\n",
      "19.0    31\n",
      "18.0    31\n",
      "17.0    31\n",
      "16.0    31\n",
      "15.0    31\n",
      "14.0    31\n",
      "13.0    31\n",
      "12.0    31\n",
      "11.0    31\n",
      "10.0    31\n",
      "9.0     31\n",
      "8.0     31\n",
      "7.0     31\n",
      "6.0     31\n",
      "5.0     31\n",
      "4.0     31\n",
      "3.0     31\n",
      "2.0     31\n",
      "23.0    31\n",
      "Name: count, dtype: int64\n"
     ]
    }
   ],
   "source": [
    "len(df2)\n",
    "print(df2[df2['month']==1]['hour'].value_counts())"
   ]
  },
  {
   "cell_type": "code",
   "execution_count": 46,
   "metadata": {},
   "outputs": [
    {
     "name": "stderr",
     "output_type": "stream",
     "text": [
      "/tmp/ipykernel_1839/3876141998.py:4: FutureWarning: Setting an item of incompatible dtype is deprecated and will raise an error in a future version of pandas. Value '4.428' has dtype incompatible with int64, please explicitly cast to a compatible dtype first.\n",
      "  df2.loc[i,'values']=df1.iloc[i].loc['values']\n"
     ]
    },
    {
     "name": "stdout",
     "output_type": "stream",
     "text": [
      "8760\n"
     ]
    },
    {
     "data": {
      "text/html": [
       "<div>\n",
       "<style scoped>\n",
       "    .dataframe tbody tr th:only-of-type {\n",
       "        vertical-align: middle;\n",
       "    }\n",
       "\n",
       "    .dataframe tbody tr th {\n",
       "        vertical-align: top;\n",
       "    }\n",
       "\n",
       "    .dataframe thead th {\n",
       "        text-align: right;\n",
       "    }\n",
       "</style>\n",
       "<table border=\"1\" class=\"dataframe\">\n",
       "  <thead>\n",
       "    <tr style=\"text-align: right;\">\n",
       "      <th></th>\n",
       "      <th>level_0</th>\n",
       "      <th>index</th>\n",
       "      <th>Price (EUR/MWhe)</th>\n",
       "      <th>day</th>\n",
       "      <th>month</th>\n",
       "      <th>year</th>\n",
       "      <th>hour</th>\n",
       "      <th>values</th>\n",
       "    </tr>\n",
       "  </thead>\n",
       "  <tbody>\n",
       "    <tr>\n",
       "      <th>0</th>\n",
       "      <td>0.0</td>\n",
       "      <td>70127.0</td>\n",
       "      <td>2.01</td>\n",
       "      <td>1.0</td>\n",
       "      <td>1.0</td>\n",
       "      <td>2023.0</td>\n",
       "      <td>0.0</td>\n",
       "      <td>4.428</td>\n",
       "    </tr>\n",
       "    <tr>\n",
       "      <th>1</th>\n",
       "      <td>1.0</td>\n",
       "      <td>70128.0</td>\n",
       "      <td>1.38</td>\n",
       "      <td>1.0</td>\n",
       "      <td>1.0</td>\n",
       "      <td>2023.0</td>\n",
       "      <td>1.0</td>\n",
       "      <td>4.220</td>\n",
       "    </tr>\n",
       "    <tr>\n",
       "      <th>2</th>\n",
       "      <td>2.0</td>\n",
       "      <td>70129.0</td>\n",
       "      <td>0.09</td>\n",
       "      <td>1.0</td>\n",
       "      <td>1.0</td>\n",
       "      <td>2023.0</td>\n",
       "      <td>2.0</td>\n",
       "      <td>4.084</td>\n",
       "    </tr>\n",
       "    <tr>\n",
       "      <th>3</th>\n",
       "      <td>3.0</td>\n",
       "      <td>70130.0</td>\n",
       "      <td>0.08</td>\n",
       "      <td>1.0</td>\n",
       "      <td>1.0</td>\n",
       "      <td>2023.0</td>\n",
       "      <td>3.0</td>\n",
       "      <td>6.180</td>\n",
       "    </tr>\n",
       "    <tr>\n",
       "      <th>4</th>\n",
       "      <td>4.0</td>\n",
       "      <td>70131.0</td>\n",
       "      <td>0.05</td>\n",
       "      <td>1.0</td>\n",
       "      <td>1.0</td>\n",
       "      <td>2023.0</td>\n",
       "      <td>4.0</td>\n",
       "      <td>4.300</td>\n",
       "    </tr>\n",
       "  </tbody>\n",
       "</table>\n",
       "</div>"
      ],
      "text/plain": [
       "   level_0    index  Price (EUR/MWhe)  day  month    year  hour  values\n",
       "0      0.0  70127.0              2.01  1.0    1.0  2023.0   0.0   4.428\n",
       "1      1.0  70128.0              1.38  1.0    1.0  2023.0   1.0   4.220\n",
       "2      2.0  70129.0              0.09  1.0    1.0  2023.0   2.0   4.084\n",
       "3      3.0  70130.0              0.08  1.0    1.0  2023.0   3.0   6.180\n",
       "4      4.0  70131.0              0.05  1.0    1.0  2023.0   4.0   4.300"
      ]
     },
     "execution_count": 46,
     "metadata": {},
     "output_type": "execute_result"
    }
   ],
   "source": [
    "df1['values']=df1['values']/1000\n",
    "df2['values']=0\n",
    "for i in range (0,8760):\n",
    "    df2.loc[i,'values']=df1.iloc[i].loc['values']\n",
    "print(len(df2))\n",
    "df2.head()"
   ]
  },
  {
   "cell_type": "code",
   "execution_count": 70,
   "metadata": {},
   "outputs": [
    {
     "name": "stdout",
     "output_type": "stream",
     "text": [
      "Here is the low price 47.62581963470321 EUR PER MW\n",
      "Here is the high price 121.68183789954342 EUR PER MW\n",
      "here is the total consumption 139684.87600000013 KW\n",
      "here is the DSM bill 8721.50785574748 EUR\n"
     ]
    }
   ],
   "source": [
    "####### DSM ##############\n",
    "l1=df2['Price (EUR/MWhe)'].tolist()\n",
    "l1.sort()\n",
    "low_price=0\n",
    "for i in range (0,int(len(l1)/2)):\n",
    "    low_price+=l1[i]\n",
    "low_price=low_price/(len(l1)/2)\n",
    "print(\"Here is the low price\",low_price,'EUR PER MW')\n",
    "high_price=0\n",
    "for i in range (int(len(l1)/2),len(l1)):\n",
    "    high_price+=l1[i]\n",
    "high_price=high_price/(len(l1)/2)\n",
    "print(\"Here is the high price\",high_price,'EUR PER MW')\n",
    "l1=df2['values'].tolist()\n",
    "totalconsumption=0\n",
    "for i in range (len(l1)):\n",
    "    totalconsumption+=l1[i]\n",
    "print('here is the total consumption',totalconsumption,'KW')\n",
    "DSM_bill=((0.8*totalconsumption*low_price)+(0.2*totalconsumption*high_price))/1000\n",
    "print('here is the DSM bill',DSM_bill,'EUR')"
   ]
  },
  {
   "cell_type": "code",
   "execution_count": 71,
   "metadata": {},
   "outputs": [
    {
     "name": "stdout",
     "output_type": "stream",
     "text": [
      "Here is the conventional price 85.97083333333335 EUR PER MW\n",
      "here is the total consumption 139684.87600000013 KW\n",
      "here is the conventional bill 12008.825193783347 EUR\n"
     ]
    }
   ],
   "source": [
    "######### Conventional ##############\n",
    "conventionalprice=(100.57+111.36+95.27+91.44+70.86+92.2+64.78+86.19+85.03+58.66+105.64+69.65)/12\n",
    "print('Here is the conventional price',conventionalprice,'EUR PER MW')\n",
    "print('here is the total consumption',totalconsumption,'KW')\n",
    "conventional_BILL=(conventionalprice*totalconsumption)/1000\n",
    "print('here is the conventional bill',conventional_BILL,'EUR')\n"
   ]
  },
  {
   "cell_type": "code",
   "execution_count": 72,
   "metadata": {},
   "outputs": [
    {
     "name": "stdout",
     "output_type": "stream",
     "text": [
      "Here is the average avgflprice 133.47295362862067 EUR PER MW\n",
      "here is the total consumption 139684.87600000013 KW\n",
      "here is the quantity down regulated 27936.97520000003 KW\n",
      "here is the flexible bill 8279.994598389818 EUR\n"
     ]
    }
   ],
   "source": [
    "##########  Flexible Market #############\n",
    "avgflprice=0\n",
    "l1=df['Price'].tolist()\n",
    "l1.sort(reverse=True)\n",
    "for i in range (0,int(len(df)/2)):\n",
    "    avgflprice+=l1[i]\n",
    "avgflprice=avgflprice/(len(df)/2)\n",
    "## I have assumed that avflprice will be average of the first 50 percent big prices becauses we will be selling at high demand times.\n",
    "print('Here is the average avgflprice',avgflprice,'EUR PER MW')\n",
    "print('here is the total consumption',totalconsumption,'KW')\n",
    "print('here is the quantity down regulated',totalconsumption*0.2,'KW')\n",
    "flexible_BILL=((conventionalprice * totalconsumption )-(totalconsumption*0.2*avgflprice))/1000\n",
    "print('here is the flexible bill',flexible_BILL,'EUR')"
   ]
  },
  {
   "cell_type": "code",
   "execution_count": 73,
   "metadata": {},
   "outputs": [
    {
     "name": "stdout",
     "output_type": "stream",
     "text": [
      "saving from DSM 3287.3173380358658 EUR\n",
      "saving from Flexible 3728.8305953935287 EUR\n"
     ]
    }
   ],
   "source": [
    "saving1=(conventional_BILL-DSM_bill)\n",
    "saving2=(conventional_BILL-flexible_BILL)\n",
    "print('saving from DSM',saving1,'EUR')\n",
    "print('saving from Flexible',saving2,'EUR')"
   ]
  }
 ],
 "metadata": {
  "kernelspec": {
   "display_name": "Python 3",
   "language": "python",
   "name": "python3"
  },
  "language_info": {
   "codemirror_mode": {
    "name": "ipython",
    "version": 3
   },
   "file_extension": ".py",
   "mimetype": "text/x-python",
   "name": "python",
   "nbconvert_exporter": "python",
   "pygments_lexer": "ipython3",
   "version": "3.10.13"
  }
 },
 "nbformat": 4,
 "nbformat_minor": 2
}
